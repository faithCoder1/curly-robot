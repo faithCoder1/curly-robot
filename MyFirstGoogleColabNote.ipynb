{
  "nbformat": 4,
  "nbformat_minor": 0,
  "metadata": {
    "colab": {
      "name": "MyFirstGoogleColabNote.ipynb",
      "provenance": [],
      "authorship_tag": "ABX9TyOZ1t2oen84LgRPcuI8q4rn",
      "include_colab_link": true
    },
    "kernelspec": {
      "name": "python3",
      "display_name": "Python 3"
    }
  },
  "cells": [
    {
      "cell_type": "markdown",
      "metadata": {
        "id": "view-in-github",
        "colab_type": "text"
      },
      "source": [
        "<a href=\"https://colab.research.google.com/github/faithCoder1/curly-robot/blob/master/MyFirstGoogleColabNote.ipynb\" target=\"_parent\"><img src=\"https://colab.research.google.com/assets/colab-badge.svg\" alt=\"Open In Colab\"/></a>"
      ]
    },
    {
      "cell_type": "code",
      "metadata": {
        "id": "j-EqB3aoby7x",
        "colab_type": "code",
        "colab": {
          "base_uri": "https://localhost:8080/",
          "height": 34
        },
        "outputId": "49242b31-7d01-4fe6-8556-9590637c1003"
      },
      "source": [
        "4**5"
      ],
      "execution_count": 1,
      "outputs": [
        {
          "output_type": "execute_result",
          "data": {
            "text/plain": [
              "1024"
            ]
          },
          "metadata": {
            "tags": []
          },
          "execution_count": 1
        }
      ]
    },
    {
      "cell_type": "markdown",
      "metadata": {
        "id": "eGYaqR3w5Bx-",
        "colab_type": "text"
      },
      "source": [
        "This is **bold**.\n",
        "This is *italic*.\n",
        "This is ~strikethrough~."
      ]
    },
    {
      "cell_type": "markdown",
      "metadata": {
        "id": "f_azxcdB5Vwz",
        "colab_type": "text"
      },
      "source": [
        "$\\sqrt{3x-1}+(1+x)$"
      ]
    },
    {
      "cell_type": "markdown",
      "metadata": {
        "id": "fMuKsE6B453E",
        "colab_type": "text"
      },
      "source": [
        "$e^x = \\sum_{i = 0}^\\infty\\frac{1}{i!}x^i$"
      ]
    },
    {
      "cell_type": "code",
      "metadata": {
        "id": "YPKg3GfW4pFm",
        "colab_type": "code",
        "colab": {}
      },
      "source": [
        ""
      ],
      "execution_count": null,
      "outputs": []
    },
    {
      "cell_type": "markdown",
      "metadata": {
        "id": "8Y7QTXZF8B9X",
        "colab_type": "text"
      },
      "source": [
        "- $3x_1 + 6x_2 + x_3 =< 28$\n",
        "- $7x_1 + 3x_2 + 2x_3 =< 37$\n",
        "- $4x_1 + 5x_2 + 2x_3 =< 19$\n",
        "\n",
        "The trial vector is calculated as follows\n",
        "- $u_i(t) = x_i(t) + \\beta(\\hat {x}(t)-x_i(t)) +\\beta \\sum_{k = 1}^{n_v}(x_{i1,k}(t) - x_{i2,k}(t))$\n"
      ]
    },
    {
      "cell_type": "code",
      "metadata": {
        "id": "LjbZQ5kiB99C",
        "colab_type": "code",
        "colab": {}
      },
      "source": [
        ""
      ],
      "execution_count": null,
      "outputs": []
    }
  ]
}