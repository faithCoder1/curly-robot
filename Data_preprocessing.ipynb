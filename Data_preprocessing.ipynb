{
 "cells": [
  {
   "cell_type": "markdown",
   "metadata": {},
   "source": [
    "# DSN Pre-Bootcamp Hackathon: The Excellent Store Challenge by Data Science Nigeria"
   ]
  },
  {
   "cell_type": "markdown",
   "metadata": {},
   "source": [
    "## Data Preprocessing\n",
    "Data preprocessing is a data mining technique that involves transforming raw data into an understandable format.\n",
    "Real-world data is often incomplete, inconsistent, and/or lacking in certain behaviors or trends, and is likely to contain many errors. Data preprocessing is a proven method of resolving such issues. "
   ]
  },
  {
   "cell_type": "markdown",
   "metadata": {},
   "source": [
    "### Steps in Data Preprocessing\n",
    "Step 1 : Import the libraries\n",
    "\n",
    "Step 2 : Import the data-set\n",
    "\n",
    "Step 3 : Check out the missing values\n",
    "\n",
    "Step 4 : See the Categorical Values\n",
    "\n",
    "Step 5 : Splitting the data-set into Training and Test Set\n",
    "\n",
    "Step 6 : Feature Scaling\n"
   ]
  },
  {
   "cell_type": "markdown",
   "metadata": {},
   "source": [
    "### Import the necessary libraries\n",
    "#### NumPy\n",
    "is the fundamental package for scientific computing with Python. It contains among other things:\n",
    "1. A powerful N-dimensional array object\n",
    "\n",
    "2. Sophisticated (broadcasting) functions\n",
    "\n",
    "3. Tools for integrating C/C++ and FORTRAN code\n",
    "\n",
    "4. Useful linear algebra, Fourier transform, and random number capabilities\n",
    "\n",
    "#### Pandas \n",
    "is for data manipulation and analysis. Pandas is an open source, BSD-licensed library providing high-performance, easy-to-use data structures and data analysis tools for the Python programming language. Pandas is a NumFOCUS sponsored project. This will help ensure the success of development of pandas as a world-class open-source project, and makes it possible to donate to the project. You can check up the features of pandas from this site https://data-flair.training/blogs/python-pandas-features/\n",
    "#### Matplotlib\n",
    "is a Python 2D plotting library which produces publication quality figures in a variety of hard copy formats and interactive environments across platforms. Matplotlib can be used in Python scripts, the Python and IPython shells, the Jupyter notebook, web application servers, and four graphical user interface toolkits.\n",
    "Seaborn is a Python data visualization library based on matplotlib. It provides a high-level interface for drawing attractive and informative statistical graphics. Please check this tutorial to get started with matplotlib https://www.datacamp.com/community/tutorials/matplotlib-tutorial-python \n",
    "#### Warning \n",
    "messages are typically issued in situations where it is useful to alert the user of some condition in a program, where that condition (normally) doesn’t warrant raising an exception and terminating the program. For example, one might want to issue a warning when a program uses an obsolete module.\n",
    "\n",
    "We will be using these fundamantal libraries\n",
    "\n"
   ]
  },
  {
   "cell_type": "code",
   "execution_count": 26,
   "metadata": {},
   "outputs": [],
   "source": [
    "import pandas as pd\n",
    "import numpy as np\n",
    "import seaborn as sns\n",
    "import matplotlib.pyplot as plt\n",
    "import math, datetime\n",
    "%matplotlib inline\n",
    "import warnings\n",
    "warnings.filterwarnings('ignore')"
   ]
  },
  {
   "cell_type": "markdown",
   "metadata": {},
   "source": [
    "### Import the Data-set\n",
    "You can download he data into the location for your notebook from this link https://zindi.africa/hackathons/dsn-pre-bootcamp-hackathon-the-excellent-store-challenge/data"
   ]
  },
  {
   "cell_type": "code",
   "execution_count": 29,
   "metadata": {},
   "outputs": [],
   "source": [
    "train = pd.read_csv('train.csv')\n",
    "test = pd.read_csv('test.csv')"
   ]
  },
  {
   "cell_type": "markdown",
   "metadata": {},
   "source": [
    "We will only be working on the train data. We should also note that it's important to carry out prepocessing on the test data also"
   ]
  },
  {
   "cell_type": "code",
   "execution_count": 30,
   "metadata": {},
   "outputs": [
    {
     "name": "stdout",
     "output_type": "stream",
     "text": [
      "columns of train are\n",
      " Index(['Item_ID', 'Store_ID', 'Item_Store_ID', 'Item_Weight',\n",
      "       'Item_Sugar_Content', 'Item_Visibility', 'Item_Type', 'Item_Price',\n",
      "       'Store_Start_Year', 'Store_Size', 'Store_Location_Type', 'Store_Type',\n",
      "       'Item_Store_Returns'],\n",
      "      dtype='object')\n",
      "columns of test are\n",
      " Index(['Item_ID', 'Store_ID', 'Item_Store_ID', 'Item_Weight',\n",
      "       'Item_Sugar_Content', 'Item_Visibility', 'Item_Type', 'Item_Price',\n",
      "       'Store_Start_Year', 'Store_Size', 'Store_Location_Type', 'Store_Type'],\n",
      "      dtype='object')\n"
     ]
    }
   ],
   "source": [
    "print('columns of train are\\n', train.columns)\n",
    "print('columns of test are\\n', test.columns)"
   ]
  },
  {
   "cell_type": "markdown",
   "metadata": {},
   "source": [
    "### Step 3 : Check out the missing values\n",
    "if we check the info of the data given from https://zindi.africa/hackathons/dsn-pre-bootcamp-hackathon-the-excellent-store-challenge we will realize our aim is to train our model to predict the Item_Store_Returns column on test data.\n",
    "We will also see that both the Store_Size and Item_Weight have missen values. We will need to decide what to do with them. In the case where more than half of the columns of the column is missen, you can decide to drop it. "
   ]
  },
  {
   "cell_type": "code",
   "execution_count": 31,
   "metadata": {},
   "outputs": [
    {
     "data": {
      "text/plain": [
       "Item_ID                   0\n",
       "Store_ID                  0\n",
       "Item_Store_ID             0\n",
       "Item_Weight             802\n",
       "Item_Sugar_Content        0\n",
       "Item_Visibility           0\n",
       "Item_Type                 0\n",
       "Item_Price                0\n",
       "Store_Start_Year          0\n",
       "Store_Size             1450\n",
       "Store_Location_Type       0\n",
       "Store_Type                0\n",
       "Item_Store_Returns        0\n",
       "dtype: int64"
      ]
     },
     "execution_count": 31,
     "metadata": {},
     "output_type": "execute_result"
    }
   ],
   "source": [
    "train.isnull().sum() #to check how many null values\n"
   ]
  },
  {
   "cell_type": "code",
   "execution_count": 32,
   "metadata": {},
   "outputs": [
    {
     "data": {
      "text/plain": [
       "12.908838347659676"
      ]
     },
     "execution_count": 32,
     "metadata": {},
     "output_type": "execute_result"
    }
   ],
   "source": [
    "#we will fill the item_weight with the mean \n",
    "train['Item_Weight'].mean()"
   ]
  },
  {
   "cell_type": "code",
   "execution_count": 33,
   "metadata": {},
   "outputs": [],
   "source": [
    "train['Item_Weight'].fillna(12.908838347659676,inplace =True)\n",
    "#you need to put inplace =True or else changes will not remain"
   ]
  },
  {
   "cell_type": "code",
   "execution_count": 34,
   "metadata": {},
   "outputs": [
    {
     "data": {
      "text/plain": [
       "0    Medium\n",
       "dtype: object"
      ]
     },
     "execution_count": 34,
     "metadata": {},
     "output_type": "execute_result"
    }
   ],
   "source": [
    "#we will fill the store_size with the mode\n",
    "train['Store_Size'].mode()"
   ]
  },
  {
   "cell_type": "code",
   "execution_count": 35,
   "metadata": {},
   "outputs": [],
   "source": [
    "train['Store_Size'].fillna('Medium',inplace =True)"
   ]
  },
  {
   "cell_type": "code",
   "execution_count": 36,
   "metadata": {},
   "outputs": [
    {
     "data": {
      "text/plain": [
       "Item_ID                0\n",
       "Store_ID               0\n",
       "Item_Store_ID          0\n",
       "Item_Weight            0\n",
       "Item_Sugar_Content     0\n",
       "Item_Visibility        0\n",
       "Item_Type              0\n",
       "Item_Price             0\n",
       "Store_Start_Year       0\n",
       "Store_Size             0\n",
       "Store_Location_Type    0\n",
       "Store_Type             0\n",
       "Item_Store_Returns     0\n",
       "dtype: int64"
      ]
     },
     "execution_count": 36,
     "metadata": {},
     "output_type": "execute_result"
    }
   ],
   "source": [
    "train.isnull().sum()\n",
    "#done filling missen values"
   ]
  },
  {
   "cell_type": "markdown",
   "metadata": {},
   "source": [
    "### Step 4 : See the Categorical Values\n",
    "Categorical values are also known as discrete or qualitative values. Categorical values can be further categorized as maiinly nominal, ordinal or dichotomous. \n",
    "- Nominal values are values that have two or more categories, but which do not have an intrinsic order that is, you cannot place one group above the order.\n",
    "- Just like nominal values, ordinal values have two or more categories. However, unlike nominal values, ordinal values can be ordered or ranked (i.e., they have levels).\n",
    "\n",
    "Numerical values are values expressed in numbers, rather than natural language description. Sometimes called quantitative values,numerical values are always collected in number form. "
   ]
  },
  {
   "cell_type": "code",
   "execution_count": 37,
   "metadata": {
    "scrolled": true
   },
   "outputs": [
    {
     "data": {
      "text/html": [
       "<div>\n",
       "<style scoped>\n",
       "    .dataframe tbody tr th:only-of-type {\n",
       "        vertical-align: middle;\n",
       "    }\n",
       "\n",
       "    .dataframe tbody tr th {\n",
       "        vertical-align: top;\n",
       "    }\n",
       "\n",
       "    .dataframe thead th {\n",
       "        text-align: right;\n",
       "    }\n",
       "</style>\n",
       "<table border=\"1\" class=\"dataframe\">\n",
       "  <thead>\n",
       "    <tr style=\"text-align: right;\">\n",
       "      <th></th>\n",
       "      <th>Item_ID</th>\n",
       "      <th>Store_ID</th>\n",
       "      <th>Item_Store_ID</th>\n",
       "      <th>Item_Weight</th>\n",
       "      <th>Item_Sugar_Content</th>\n",
       "      <th>Item_Visibility</th>\n",
       "      <th>Item_Type</th>\n",
       "      <th>Item_Price</th>\n",
       "      <th>Store_Start_Year</th>\n",
       "      <th>Store_Size</th>\n",
       "      <th>Store_Location_Type</th>\n",
       "      <th>Store_Type</th>\n",
       "      <th>Item_Store_Returns</th>\n",
       "    </tr>\n",
       "  </thead>\n",
       "  <tbody>\n",
       "    <tr>\n",
       "      <th>0</th>\n",
       "      <td>DRA12</td>\n",
       "      <td>BABATUNJI010</td>\n",
       "      <td>DRA12_BABATUNJI010</td>\n",
       "      <td>11.6</td>\n",
       "      <td>Low Sugar</td>\n",
       "      <td>0.068535</td>\n",
       "      <td>Soft Drinks</td>\n",
       "      <td>357.54</td>\n",
       "      <td>2005</td>\n",
       "      <td>Medium</td>\n",
       "      <td>Cluster 3</td>\n",
       "      <td>Grocery Store</td>\n",
       "      <td>709.08</td>\n",
       "    </tr>\n",
       "    <tr>\n",
       "      <th>1</th>\n",
       "      <td>DRA12</td>\n",
       "      <td>BABATUNJI013</td>\n",
       "      <td>DRA12_BABATUNJI013</td>\n",
       "      <td>11.6</td>\n",
       "      <td>Low Sugar</td>\n",
       "      <td>0.040912</td>\n",
       "      <td>Soft Drinks</td>\n",
       "      <td>355.79</td>\n",
       "      <td>1994</td>\n",
       "      <td>High</td>\n",
       "      <td>Cluster 3</td>\n",
       "      <td>Supermarket Type1</td>\n",
       "      <td>6381.69</td>\n",
       "    </tr>\n",
       "    <tr>\n",
       "      <th>2</th>\n",
       "      <td>DRA12</td>\n",
       "      <td>BABATUNJI017</td>\n",
       "      <td>DRA12_BABATUNJI017</td>\n",
       "      <td>11.6</td>\n",
       "      <td>Low Sugar</td>\n",
       "      <td>0.041178</td>\n",
       "      <td>Soft Drinks</td>\n",
       "      <td>350.79</td>\n",
       "      <td>2014</td>\n",
       "      <td>Medium</td>\n",
       "      <td>Cluster 2</td>\n",
       "      <td>Supermarket Type1</td>\n",
       "      <td>6381.69</td>\n",
       "    </tr>\n",
       "    <tr>\n",
       "      <th>3</th>\n",
       "      <td>DRA12</td>\n",
       "      <td>BABATUNJI018</td>\n",
       "      <td>DRA12_BABATUNJI018</td>\n",
       "      <td>11.6</td>\n",
       "      <td>Low Sugar</td>\n",
       "      <td>0.041113</td>\n",
       "      <td>Soft Drinks</td>\n",
       "      <td>355.04</td>\n",
       "      <td>2016</td>\n",
       "      <td>Medium</td>\n",
       "      <td>Cluster 3</td>\n",
       "      <td>Supermarket Type2</td>\n",
       "      <td>2127.23</td>\n",
       "    </tr>\n",
       "    <tr>\n",
       "      <th>4</th>\n",
       "      <td>DRA12</td>\n",
       "      <td>BABATUNJI035</td>\n",
       "      <td>DRA12_BABATUNJI035</td>\n",
       "      <td>11.6</td>\n",
       "      <td>Ultra Low Sugar</td>\n",
       "      <td>0.000000</td>\n",
       "      <td>Soft Drinks</td>\n",
       "      <td>354.79</td>\n",
       "      <td>2011</td>\n",
       "      <td>Small</td>\n",
       "      <td>Cluster 2</td>\n",
       "      <td>Supermarket Type1</td>\n",
       "      <td>2481.77</td>\n",
       "    </tr>\n",
       "  </tbody>\n",
       "</table>\n",
       "</div>"
      ],
      "text/plain": [
       "  Item_ID      Store_ID       Item_Store_ID  Item_Weight Item_Sugar_Content  \\\n",
       "0   DRA12  BABATUNJI010  DRA12_BABATUNJI010         11.6          Low Sugar   \n",
       "1   DRA12  BABATUNJI013  DRA12_BABATUNJI013         11.6          Low Sugar   \n",
       "2   DRA12  BABATUNJI017  DRA12_BABATUNJI017         11.6          Low Sugar   \n",
       "3   DRA12  BABATUNJI018  DRA12_BABATUNJI018         11.6          Low Sugar   \n",
       "4   DRA12  BABATUNJI035  DRA12_BABATUNJI035         11.6    Ultra Low Sugar   \n",
       "\n",
       "   Item_Visibility    Item_Type  Item_Price  Store_Start_Year Store_Size  \\\n",
       "0         0.068535  Soft Drinks      357.54              2005     Medium   \n",
       "1         0.040912  Soft Drinks      355.79              1994       High   \n",
       "2         0.041178  Soft Drinks      350.79              2014     Medium   \n",
       "3         0.041113  Soft Drinks      355.04              2016     Medium   \n",
       "4         0.000000  Soft Drinks      354.79              2011      Small   \n",
       "\n",
       "  Store_Location_Type         Store_Type  Item_Store_Returns  \n",
       "0           Cluster 3      Grocery Store              709.08  \n",
       "1           Cluster 3  Supermarket Type1             6381.69  \n",
       "2           Cluster 2  Supermarket Type1             6381.69  \n",
       "3           Cluster 3  Supermarket Type2             2127.23  \n",
       "4           Cluster 2  Supermarket Type1             2481.77  "
      ]
     },
     "execution_count": 37,
     "metadata": {},
     "output_type": "execute_result"
    }
   ],
   "source": [
    "train.head()"
   ]
  },
  {
   "cell_type": "markdown",
   "metadata": {},
   "source": [
    "We will see that the Item_Sugar_Content and Store_Size are ordinal categorical feature.\n",
    " We can best handle it by LabelEncoding or OneHot Encoder or manually so that it becomes a numeric feature\n"
   ]
  },
  {
   "cell_type": "code",
   "execution_count": 38,
   "metadata": {},
   "outputs": [
    {
     "data": {
      "text/plain": [
       "array(['Low Sugar', 'Ultra Low Sugar', 'Normal Sugar'], dtype=object)"
      ]
     },
     "execution_count": 38,
     "metadata": {},
     "output_type": "execute_result"
    }
   ],
   "source": [
    "train['Item_Sugar_Content'].unique()"
   ]
  },
  {
   "cell_type": "markdown",
   "metadata": {},
   "source": [
    "We will indicate Ultra Low to be 0 since it's the least, low to be 1 and Normal t be 2. "
   ]
  },
  {
   "cell_type": "code",
   "execution_count": 39,
   "metadata": {},
   "outputs": [],
   "source": [
    "sugar_levels= ['Low Sugar', 'Ultra Low Sugar', 'Normal Sugar']\n",
    "for i in range(0,len(train)): #len(train)==number of rows\n",
    "    if train['Item_Sugar_Content'][i] == sugar_levels[0]:\n",
    "        train['Item_Sugar_Content'][i]=1\n",
    "    elif train['Item_Sugar_Content'][i] == sugar_levels[1]:\n",
    "        train['Item_Sugar_Content'][i] =0\n",
    "    elif train['Item_Sugar_Content'][i]==sugar_levels[2]: \n",
    "        train['Item_Sugar_Content'][i] =2 #takes care of Normal Sugar Level\n",
    "    else:\n",
    "        pass"
   ]
  },
  {
   "cell_type": "code",
   "execution_count": 41,
   "metadata": {},
   "outputs": [
    {
     "data": {
      "text/plain": [
       "array(['Medium', 'High', 'Small'], dtype=object)"
      ]
     },
     "execution_count": 41,
     "metadata": {},
     "output_type": "execute_result"
    }
   ],
   "source": [
    "train['Store_Size'].unique()"
   ]
  },
  {
   "cell_type": "code",
   "execution_count": 42,
   "metadata": {},
   "outputs": [],
   "source": [
    "Store_levels= ['Medium', 'High', 'Small']\n",
    "for i in range(0,len(train)): #len(train)==number of rows\n",
    "    if train['Store_Size'][i] == Store_levels[0]:\n",
    "        train['Store_Size'][i]=1\n",
    "    elif train['Store_Size'][i] == Store_levels[1]:\n",
    "        train['Store_Size'][i] =2\n",
    "    elif train['Store_Size'][i]==Store_levels[2]: \n",
    "        train['Store_Size'][i] =0 #takes care of Normal Sugar Level\n",
    "    else:\n",
    "        pass"
   ]
  },
  {
   "cell_type": "code",
   "execution_count": 43,
   "metadata": {},
   "outputs": [
    {
     "data": {
      "text/plain": [
       "1"
      ]
     },
     "execution_count": 43,
     "metadata": {},
     "output_type": "execute_result"
    }
   ],
   "source": [
    "train['Store_Size'][0]"
   ]
  },
  {
   "cell_type": "code",
   "execution_count": 48,
   "metadata": {},
   "outputs": [
    {
     "data": {
      "text/plain": [
       "ModeResult(mode=array([32717.41]), count=array([1]))"
      ]
     },
     "execution_count": 48,
     "metadata": {},
     "output_type": "execute_result"
    }
   ],
   "source": [
    "import math\n",
    "from scipy import stats"
   ]
  },
  {
   "cell_type": "code",
   "execution_count": 54,
   "metadata": {},
   "outputs": [
    {
     "data": {
      "text/plain": [
       "Store_Size\n",
       "0     7362376.94\n",
       "1    20686359.46\n",
       "2     2407829.22\n",
       "Name: Item_Store_Returns, dtype: float64"
      ]
     },
     "execution_count": 54,
     "metadata": {},
     "output_type": "execute_result"
    }
   ],
   "source": [
    "train.groupby(['Store_Size'])['Item_Store_Returns'].sum()"
   ]
  },
  {
   "cell_type": "code",
   "execution_count": 65,
   "metadata": {},
   "outputs": [
    {
     "data": {
      "text/html": [
       "<div>\n",
       "<style scoped>\n",
       "    .dataframe tbody tr th:only-of-type {\n",
       "        vertical-align: middle;\n",
       "    }\n",
       "\n",
       "    .dataframe tbody tr th {\n",
       "        vertical-align: top;\n",
       "    }\n",
       "\n",
       "    .dataframe thead th {\n",
       "        text-align: right;\n",
       "    }\n",
       "</style>\n",
       "<table border=\"1\" class=\"dataframe\">\n",
       "  <thead>\n",
       "    <tr style=\"text-align: right;\">\n",
       "      <th></th>\n",
       "      <th>Store_Type</th>\n",
       "      <th>Item_Type</th>\n",
       "      <th>Item_Store_Returns</th>\n",
       "    </tr>\n",
       "  </thead>\n",
       "  <tbody>\n",
       "    <tr>\n",
       "      <th>0</th>\n",
       "      <td>Grocery Store</td>\n",
       "      <td>Baking Goods</td>\n",
       "      <td>1980.76</td>\n",
       "    </tr>\n",
       "    <tr>\n",
       "      <th>1</th>\n",
       "      <td>Grocery Store</td>\n",
       "      <td>Breads</td>\n",
       "      <td>2188.82</td>\n",
       "    </tr>\n",
       "    <tr>\n",
       "      <th>2</th>\n",
       "      <td>Grocery Store</td>\n",
       "      <td>Breakfast</td>\n",
       "      <td>2330.30</td>\n",
       "    </tr>\n",
       "    <tr>\n",
       "      <th>3</th>\n",
       "      <td>Grocery Store</td>\n",
       "      <td>Canned</td>\n",
       "      <td>3262.42</td>\n",
       "    </tr>\n",
       "    <tr>\n",
       "      <th>4</th>\n",
       "      <td>Grocery Store</td>\n",
       "      <td>Dairy</td>\n",
       "      <td>2438.49</td>\n",
       "    </tr>\n",
       "    <tr>\n",
       "      <th>...</th>\n",
       "      <td>...</td>\n",
       "      <td>...</td>\n",
       "      <td>...</td>\n",
       "    </tr>\n",
       "    <tr>\n",
       "      <th>59</th>\n",
       "      <td>Supermarket Type3</td>\n",
       "      <td>Others</td>\n",
       "      <td>13865.29</td>\n",
       "    </tr>\n",
       "    <tr>\n",
       "      <th>60</th>\n",
       "      <td>Supermarket Type3</td>\n",
       "      <td>Seafood</td>\n",
       "      <td>14261.44</td>\n",
       "    </tr>\n",
       "    <tr>\n",
       "      <th>61</th>\n",
       "      <td>Supermarket Type3</td>\n",
       "      <td>Snack Foods</td>\n",
       "      <td>27484.22</td>\n",
       "    </tr>\n",
       "    <tr>\n",
       "      <th>62</th>\n",
       "      <td>Supermarket Type3</td>\n",
       "      <td>Soft Drinks</td>\n",
       "      <td>23885.58</td>\n",
       "    </tr>\n",
       "    <tr>\n",
       "      <th>63</th>\n",
       "      <td>Supermarket Type3</td>\n",
       "      <td>Starchy Foods</td>\n",
       "      <td>18609.11</td>\n",
       "    </tr>\n",
       "  </tbody>\n",
       "</table>\n",
       "<p>64 rows × 3 columns</p>\n",
       "</div>"
      ],
      "text/plain": [
       "           Store_Type      Item_Type  Item_Store_Returns\n",
       "0       Grocery Store   Baking Goods             1980.76\n",
       "1       Grocery Store         Breads             2188.82\n",
       "2       Grocery Store      Breakfast             2330.30\n",
       "3       Grocery Store         Canned             3262.42\n",
       "4       Grocery Store          Dairy             2438.49\n",
       "..                ...            ...                 ...\n",
       "59  Supermarket Type3         Others            13865.29\n",
       "60  Supermarket Type3        Seafood            14261.44\n",
       "61  Supermarket Type3    Snack Foods            27484.22\n",
       "62  Supermarket Type3    Soft Drinks            23885.58\n",
       "63  Supermarket Type3  Starchy Foods            18609.11\n",
       "\n",
       "[64 rows x 3 columns]"
      ]
     },
     "execution_count": 65,
     "metadata": {},
     "output_type": "execute_result"
    }
   ],
   "source": [
    "group_by_type = pd.DataFrame(train.groupby(['Store_Type','Item_Type'])['Item_Store_Returns'].max()).reset_index()\n",
    "groupby_Grocery = group_by_type[group_by_type['Store_Type']=='Grocery Store']['Item_Type']\n",
    "groupby_Supermarket1 = group_by_type[group_by_type['Store_Type']=='Supermarket Type1']['Item_Type']\n",
    "groupby_Supermarket2 = group_by_type[group_by_type['Store_Type']=='Supermarket Type2']['Item_Type']\n",
    "groupby_Supermarket3 = group_by_type[group_by_type['Store_Type']=='Supermarket Type3']['Item_Type']\n",
    "group_by_type"
   ]
  },
  {
   "cell_type": "markdown",
   "metadata": {},
   "source": [
    "The highest items return is from Medium Store size"
   ]
  },
  {
   "cell_type": "code",
   "execution_count": 53,
   "metadata": {},
   "outputs": [
    {
     "data": {
      "text/plain": [
       "Store_Type\n",
       "Grocery Store          598482.92\n",
       "Supermarket Type1    21284502.22\n",
       "Supermarket Type2     2770310.84\n",
       "Supermarket Type3     5803269.64\n",
       "Name: Item_Store_Returns, dtype: float64"
      ]
     },
     "execution_count": 53,
     "metadata": {},
     "output_type": "execute_result"
    }
   ],
   "source": [
    "train.groupby(['Store_Type'])['Item_Store_Returns'].sum()"
   ]
  },
  {
   "cell_type": "markdown",
   "metadata": {},
   "source": [
    "From the values above we see that the highest items return is from Supermarket Type 1, followed by type 3, 2 and Grocery Store.\n",
    " We can also check the Cluster type "
   ]
  },
  {
   "cell_type": "code",
   "execution_count": null,
   "metadata": {},
   "outputs": [],
   "source": [
    "train."
   ]
  }
 ],
 "metadata": {
  "kernelspec": {
   "display_name": "Python 3",
   "language": "python",
   "name": "python3"
  },
  "language_info": {
   "codemirror_mode": {
    "name": "ipython",
    "version": 3
   },
   "file_extension": ".py",
   "mimetype": "text/x-python",
   "name": "python",
   "nbconvert_exporter": "python",
   "pygments_lexer": "ipython3",
   "version": "3.7.0"
  }
 },
 "nbformat": 4,
 "nbformat_minor": 2
}
